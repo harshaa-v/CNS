{
  "nbformat": 4,
  "nbformat_minor": 0,
  "metadata": {
    "colab": {
      "provenance": []
    },
    "kernelspec": {
      "name": "python3",
      "display_name": "Python 3"
    },
    "language_info": {
      "name": "python"
    }
  },
  "cells": [
    {
      "cell_type": "code",
      "execution_count": 1,
      "metadata": {
        "colab": {
          "base_uri": "https://localhost:8080/"
        },
        "id": "R9twtD84aEpc",
        "outputId": "8e1ece26-3ac6-4482-ea59-4997f7a53554"
      },
      "outputs": [
        {
          "output_type": "stream",
          "name": "stdout",
          "text": [
            "Requirement already satisfied: cryptography in /usr/local/lib/python3.11/dist-packages (43.0.3)\n",
            "Requirement already satisfied: cffi>=1.12 in /usr/local/lib/python3.11/dist-packages (from cryptography) (1.17.1)\n",
            "Requirement already satisfied: pycparser in /usr/local/lib/python3.11/dist-packages (from cffi>=1.12->cryptography) (2.22)\n"
          ]
        }
      ],
      "source": [
        "!pip install cryptography"
      ]
    },
    {
      "cell_type": "code",
      "source": [
        "from cryptography.hazmat.primitives.asymmetric import rsa, padding\n",
        "from cryptography.hazmat.primitives import serialization, hashes\n",
        "\n",
        "def generate_keys():\n",
        "    private_key = rsa.generate_private_key(\n",
        "        public_exponent=65537,\n",
        "        key_size=2048\n",
        "    )\n",
        "    public_key = private_key.public_key()\n",
        "    return private_key, public_key\n",
        "\n",
        "def encrypt_message(message, public_key):\n",
        "    encrypted = public_key.encrypt(\n",
        "        message.encode(),\n",
        "        padding.OAEP(\n",
        "            mgf=padding.MGF1(algorithm=hashes.SHA256()),\n",
        "            algorithm=hashes.SHA256(),\n",
        "            label=None\n",
        "        )\n",
        "    )\n",
        "    return encrypted\n",
        "\n",
        "def decrypt_message(encrypted_message, private_key):\n",
        "    decrypted = private_key.decrypt(\n",
        "        encrypted_message,\n",
        "        padding.OAEP(\n",
        "            mgf=padding.MGF1(algorithm=hashes.SHA256()),\n",
        "            algorithm=hashes.SHA256(),\n",
        "            label=None\n",
        "        )\n",
        "    )\n",
        "    return decrypted.decode()\n"
      ],
      "metadata": {
        "id": "ac8Zp6jaTCBB"
      },
      "execution_count": 2,
      "outputs": []
    },
    {
      "cell_type": "code",
      "source": [
        "private_key, public_key = generate_keys()\n",
        "print(\"Keys generated successfully!\")\n"
      ],
      "metadata": {
        "colab": {
          "base_uri": "https://localhost:8080/"
        },
        "id": "5XMDGzHfTe4O",
        "outputId": "431df676-acd1-46ee-9c9c-24a57707e5ca"
      },
      "execution_count": 3,
      "outputs": [
        {
          "output_type": "stream",
          "name": "stdout",
          "text": [
            "Keys generated successfully!\n"
          ]
        }
      ]
    },
    {
      "cell_type": "code",
      "source": [
        "message = input(\"Enter message to encrypt: \")\n",
        "encrypted_msg = encrypt_message(message, public_key)\n",
        "print(f\"Encrypted: {encrypted_msg}\")\n",
        "\n",
        "decrypted_msg = decrypt_message(encrypted_msg, private_key)\n",
        "print(f\"Decrypted: {decrypted_msg}\")\n"
      ],
      "metadata": {
        "colab": {
          "base_uri": "https://localhost:8080/"
        },
        "id": "tccFmG0DTjbc",
        "outputId": "8aa76177-5eab-4559-b4e2-e118238ab215"
      },
      "execution_count": 4,
      "outputs": [
        {
          "output_type": "stream",
          "name": "stdout",
          "text": [
            "Enter message to encrypt: Hello World!\n",
            "Encrypted: b'\\x10\\xac\\xcf\\xbc\\xc3\\xc2\\xe4\\x0c\\xd0\\xdf\\xf7\\x8b\\x9f\\x96\\x8d\\xfb\\x96\\x12\\xda\\xec\\x10(}0;\\xc6\\xc7\\xfeF!\\x8a\\xf8\\x96:\\x97\\x8f\\xc5\\xa1F\\\\\\xf7\\xd4n,V\\x93OvI\\xaa\\xd8\\x16-\\xc7\\x8b\\xb5?\\xb5w\\xdbX\\x8e\\xc2+x$V\\xe01\\xc6p\\xd7\\xb0\\xc3\\xb8\\xe5@\\xfb\\xaf\\x84\\x15\\x14\\xa5i7\\xc3\\xa9YO\\x93\\x07\\xb2\\xd1\\x9bT\\x19$\\xf8uV\\x16~g\\xba\\xda[ \\xf8L\\xac> pbN;\\xbax\\x07\\xad\\x1ef\\x86~d\\xa9\\xba\\xf5\\xf0\\x87\\xac\\xbb\\x10\\xe9\\xc8\\x16-\\xf4\\xdf\\x07k\\xe6\\x8f>\\x9f~\\x99\\x85Xw\\tl\\xa6o\\xa3\\xd5\\xc3\\x16\\xf1\\t\\x80\\xfa=\\x17Y\\xa6\"\\xdd\\xe6%4\\xc9\\xc0\\xb2\\x81\\xe0\\xa0\\xb6\\xe4\\x0f\\xa1\\x9cY\\xac\\xaa\\x8f\\x87R?\\xbf\\x97\\xccd\\xf9\\x93K\\x8f\\x8d\\x9f3,\\x95\\x7f\\x9e\"\\xe5\\x16p\\x00;\\x05G\\xcd\\xbdqo\\xac\\xd8I\\xfd\\xb2\\xa2\\xc6\\xadC\\x841\\x1c\\x8e\\x12$C\\x83kt\\x0fg?\\x10\\xe1\\x9b\\x8e\\xa9g\\xc4\\x1bs\\xfd\\xact!\\xf2\\xfeuA\\xf4'\n",
            "Decrypted: Hello World!\n"
          ]
        }
      ]
    }
  ]
}